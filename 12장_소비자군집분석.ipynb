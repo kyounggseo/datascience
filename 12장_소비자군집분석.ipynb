{
 "cells": [
  {
   "cell_type": "code",
   "execution_count": null,
   "metadata": {},
   "outputs": [],
   "source": [
    "import pandas as pd\n",
    "import math"
   ]
  },
  {
   "cell_type": "code",
   "execution_count": null,
   "metadata": {},
   "outputs": [],
   "source": [
    "retail_df = pd.read_excel('C:/Users/ETRI/ch12_data/Online_Retail.xlsx')\n",
    "retail_df.head()"
   ]
  },
  {
   "cell_type": "code",
   "execution_count": null,
   "metadata": {},
   "outputs": [],
   "source": [
    "retail_df.info()"
   ]
  },
  {
   "cell_type": "code",
   "execution_count": null,
   "metadata": {},
   "outputs": [],
   "source": [
    "retail_df = retail_df[retail_df['Quantity']>0]\n",
    "retail_df = retail_df[retail_df['UnitPrice']>0]\n",
    "retail_df = retail_df[retail_df['CustomerID'].notnull()]\n",
    "retail_df['CustomerID']=retail_df['CustomerID'].astype(int)"
   ]
  },
  {
   "cell_type": "code",
   "execution_count": null,
   "metadata": {},
   "outputs": [],
   "source": [
    "retail_df.info()\n",
    "print(retail_df.isnull().sum())\n",
    "print(retail_df.shape)"
   ]
  },
  {
   "cell_type": "code",
   "execution_count": null,
   "metadata": {},
   "outputs": [],
   "source": [
    "retail_df.drop_duplicates(inplace = True)\n",
    "print(retail_df.shape) "
   ]
  },
  {
   "cell_type": "code",
   "execution_count": null,
   "metadata": {},
   "outputs": [],
   "source": [
    "pd.DataFrame([{'Product':len(retail_df['StockCode'].value_counts()),\n",
    "              'Transaction':len(retail_df['InvoiceNo'].value_counts()),\n",
    "             'Customer':len(retail_df['CustomerID'].value_counts())}],\n",
    "                              columns=['Product','Transaction','Customer'], index=['counts'])"
   ]
  },
  {
   "cell_type": "code",
   "execution_count": null,
   "metadata": {},
   "outputs": [],
   "source": [
    "retail_df['Country'].value_counts()"
   ]
  },
  {
   "cell_type": "code",
   "execution_count": null,
   "metadata": {},
   "outputs": [],
   "source": [
    "retail_df['SaleAmount']=retail_df['UnitPrice']*retail_df['Quantity']\n",
    "retail_df.head()  "
   ]
  },
  {
   "cell_type": "code",
   "execution_count": null,
   "metadata": {},
   "outputs": [],
   "source": [
    "aggregations={'InvoiceNo':'count','SaleAmount':'sum','InvoiceDate':'max'}\n",
    "customer_df=retail_df.groupby('CustomerID').agg(aggregations)\n",
    "customer_df=customer_df.reset_index()\n",
    "customer_df.head() "
   ]
  },
  {
   "cell_type": "code",
   "execution_count": null,
   "metadata": {},
   "outputs": [],
   "source": [
    "customer_df = customer_df.rename(columns={'InvoiceNo':'Freq','InvoiceDate':'ElaspedDays'})\n",
    "customer_df.head() "
   ]
  },
  {
   "cell_type": "code",
   "execution_count": null,
   "metadata": {},
   "outputs": [],
   "source": [
    "import datetime\n",
    "customer_df['ElaspedDays'] = datetime.datetime(2011,12,10) - customer_df['ElaspedDays']\n",
    "customer_df.head() "
   ]
  },
  {
   "cell_type": "code",
   "execution_count": null,
   "metadata": {},
   "outputs": [],
   "source": [
    "customer_df['ElaspedDays'] = customer_df['ElaspedDays'].apply(lambda x:x.days+1)\n",
    "customer_df.head()"
   ]
  },
  {
   "cell_type": "code",
   "execution_count": null,
   "metadata": {},
   "outputs": [],
   "source": [
    "import matplotlib.pyplot as plt\n",
    "import seaborn as sns\n",
    "\n",
    "fig, ax = plt.subplots()\n",
    "ax.boxplot([customer_df['Freq'],customer_df['SaleAmount'], customer_df['ElaspedDays']], sym = 'bo')\n",
    "plt.xticks([1,2,3],['Freq','SaleAmount','ElaspedDays'])\n",
    "plt.show()"
   ]
  },
  {
   "cell_type": "code",
   "execution_count": null,
   "metadata": {},
   "outputs": [],
   "source": [
    "import numpy as np\n",
    "\n",
    "customer_df['Freq_log'] = np.log1p(customer_df['Freq'])\n",
    "customer_df['SaleAmount_log'] = np.log1p(customer_df['SaleAmount'])\n",
    "customer_df['ElaspedDays_log'] = np.log1p(customer_df['ElaspedDays'])\n",
    "\n",
    "customer_df.head() \n"
   ]
  },
  {
   "cell_type": "code",
   "execution_count": null,
   "metadata": {},
   "outputs": [],
   "source": [
    "fig, ax = plt.subplots()\n",
    "ax.boxplot([customer_df['Freq_log'], customer_df['SaleAmount_log'],\n",
    "           customer_df['ElaspedDays_log']], sym= 'bo')\n",
    "plt.xticks([1,2,3],['Freq_log','SaleAmount_log','ElaspedDays_log'])\n",
    "plt.show()"
   ]
  },
  {
   "cell_type": "code",
   "execution_count": null,
   "metadata": {},
   "outputs": [],
   "source": [
    "from sklearn.cluster import KMeans\n",
    "from sklearn.metrics import silhouette_score, silhouette_samples"
   ]
  },
  {
   "cell_type": "code",
   "execution_count": null,
   "metadata": {},
   "outputs": [],
   "source": [
    "X_features = customer_df[['Freq_log','SaleAmount_log','ElaspedDays_log']].values"
   ]
  },
  {
   "cell_type": "code",
   "execution_count": null,
   "metadata": {},
   "outputs": [],
   "source": [
    "from sklearn.preprocessing import StandardScaler\n",
    "X_features_scaled = StandardScaler().fit_transform(X_features)"
   ]
  },
  {
   "cell_type": "code",
   "execution_count": null,
   "metadata": {},
   "outputs": [],
   "source": [
    "distortions = []\n",
    "\n",
    "for i in range(1,11):\n",
    "    kmeans_i = KMeans(n_clusters = i, random_state =0)  \n",
    "    kmeans_i.fit(X_features_scaled)                     \n",
    "    distortions.append(kmeans_i.inertia_)\n",
    "    \n",
    "plt.plot(range(1,11), distortions, marker ='o')\n",
    "plt.xlabel('Number of Clusters')\n",
    "plt.ylabel('Distortion')\n",
    "plt.show()"
   ]
  },
  {
   "cell_type": "code",
   "execution_count": null,
   "metadata": {},
   "outputs": [],
   "source": [
    "kmeans = KMeans(n_clusters = 3, random_state= 0) \n",
    "Y_labels = kmeans.fit_predict(X_features_scaled)"
   ]
  },
  {
   "cell_type": "code",
   "execution_count": null,
   "metadata": {},
   "outputs": [],
   "source": [
    "customer_df['ClusterLabel'] = Y_labels\n",
    "customer_df.head()   "
   ]
  },
  {
   "cell_type": "code",
   "execution_count": null,
   "metadata": {},
   "outputs": [],
   "source": [
    "from matplotlib import cm\n",
    "\n",
    "def silhouetteViz(n_cluster, X_features):\n",
    "    kmeans = KMeans(n_clusters = n_cluster, random_state =0)\n",
    "    Y_labels = kmeans.fit_predict(X_features)\n",
    "    \n",
    "    silhouette_values = silhouette_samples(X_features, Y_labels, metric = 'euclidean')\n",
    "    \n",
    "    y_ax_lower, y_ax_upper = 0, 0\n",
    "    y_ticks = []\n",
    "    \n",
    "    for c in range(n_cluster):\n",
    "        c_silhouettes = silhouette_values[Y_labels ==c]\n",
    "        c_silhouettes.sort()\n",
    "        y_ax_upper += len(c_silhouettes)\n",
    "        color = cm.jet(float(c) / n_cluster)\n",
    "        plt.barh(range(y_ax_lower, y_ax_upper), c_silhouettes, height = 1.0, edgecolor = 'none', color = color)\n",
    "        y_ticks.append((y_ax_lower + y_ax_upper)/2.)\n",
    "        y_ax_lower += len(c_silhouettes)\n",
    "        \n",
    "    silhouette_avg = np.mean(silhouette_values)\n",
    "    \n",
    "    plt.axvline(silhouette_avg, color = 'red', linestyle = '-')\n",
    "    plt.title('Number of Cluster : '+ str(n_cluster) + '\\n' + \n",
    "              'Silhouette Score : '+ str(round(silhouette_avg,3))) \n",
    "    plt.yticks(y_ticks, range(n_cluster))\n",
    "    plt.xticks([0, 0.2, 0.4, 0.6, 0.8, 1])\n",
    "    plt.ylabel('Cluster')\n",
    "    plt.xlabel('Silhouette coeficients')\n",
    "    plt.tight_layout()\n",
    "    plt.show()"
   ]
  },
  {
   "cell_type": "code",
   "execution_count": null,
   "metadata": {},
   "outputs": [],
   "source": [
    "def clusterScatter(n_cluster, X_features):\n",
    "    c_colors = []\n",
    "    kmeans = KMeans(n_clusters = n_cluster, random_state = 0)\n",
    "    Y_labels = kmeans.fit_predict(X_features)\n",
    "    \n",
    "    for i in range(n_cluster):\n",
    "        c_color = cm.jet(float(i)/n_cluster) \n",
    "        c_colors.append(c_color)\n",
    "        plt.scatter(X_features[Y_labels == i,0],\n",
    "               X_features[Y_labels == i,1], marker = 'o', color = c_color, \n",
    "               edgecolor = 'black', s = 50, label = 'cluster '+str(i))\n",
    "        \n",
    "    for i in range(n_cluster):\n",
    "        plt.scatter(kmeans.cluster_centers_[i,0], kmeans.cluster_centers_[i,1], \n",
    "                        marker = '^', color= c_colors[i], edgecolor = 'w', s=200)\n",
    "        plt.legend()\n",
    "        plt.grid()\n",
    "        plt.tight_layout()\n",
    "        plt.show()"
   ]
  },
  {
   "cell_type": "code",
   "execution_count": null,
   "metadata": {},
   "outputs": [],
   "source": [
    "silhouetteViz(3, X_features_scaled)"
   ]
  },
  {
   "cell_type": "code",
   "execution_count": null,
   "metadata": {},
   "outputs": [],
   "source": [
    "silhouetteViz(4, X_features_scaled)"
   ]
  },
  {
   "cell_type": "code",
   "execution_count": null,
   "metadata": {},
   "outputs": [],
   "source": [
    "silhouetteViz(5, X_features_scaled)"
   ]
  },
  {
   "cell_type": "code",
   "execution_count": null,
   "metadata": {},
   "outputs": [],
   "source": [
    "silhouetteViz(6, X_features_scaled)"
   ]
  },
  {
   "cell_type": "code",
   "execution_count": null,
   "metadata": {},
   "outputs": [],
   "source": [
    "clusterScatter(3, X_features_scaled)"
   ]
  },
  {
   "cell_type": "code",
   "execution_count": null,
   "metadata": {},
   "outputs": [],
   "source": [
    "clusterScatter(4, X_features_scaled)"
   ]
  },
  {
   "cell_type": "code",
   "execution_count": null,
   "metadata": {},
   "outputs": [],
   "source": [
    "clusterScatter(5, X_features_scaled)"
   ]
  },
  {
   "cell_type": "code",
   "execution_count": null,
   "metadata": {},
   "outputs": [],
   "source": [
    "clusterScatter(6, X_features_scaled)"
   ]
  },
  {
   "cell_type": "code",
   "execution_count": null,
   "metadata": {},
   "outputs": [],
   "source": [
    "best_cluster = 4\n",
    "kmeans = KMeans(n_clusters = best_cluster, random_state = 0)\n",
    "Y_labels = kmeans.fit_predict(X_features_scaled)"
   ]
  },
  {
   "cell_type": "code",
   "execution_count": null,
   "metadata": {},
   "outputs": [],
   "source": [
    "customer_df['ClusterLabel'] = Y_labels\n",
    "customer_df.head()"
   ]
  },
  {
   "cell_type": "code",
   "execution_count": null,
   "metadata": {
    "scrolled": true
   },
   "outputs": [],
   "source": [
    "customer_df.to_csv('C:/Users/ETRI/ch12_data/Online_Retail_Customer_Cluster.csv')"
   ]
  },
  {
   "cell_type": "code",
   "execution_count": null,
   "metadata": {},
   "outputs": [],
   "source": [
    "customer_df.groupby('ClusterLabel')['CustomerID'].count()"
   ]
  },
  {
   "cell_type": "code",
   "execution_count": null,
   "metadata": {},
   "outputs": [],
   "source": [
    "customer_cluster_df = customer_df.drop(['Freq_log', 'SaleAmount_log', \n",
    "                                        'ElaspedDays_log'], axis =1, inplace = False)"
   ]
  },
  {
   "cell_type": "code",
   "execution_count": null,
   "metadata": {
    "scrolled": true
   },
   "outputs": [],
   "source": [
    "customer_cluster_df['SaleAmountAvg'] = customer_cluster_df['SaleAmount']/customer_cluster_df['Freq']\n",
    "customer_cluster_df.head()"
   ]
  },
  {
   "cell_type": "code",
   "execution_count": null,
   "metadata": {},
   "outputs": [],
   "source": [
    "customer_cluster_df.drop(['CustomerID'], axis=1, inplace=False).groupby('ClusterLabel').mean()"
   ]
  }
 ],
 "metadata": {
  "kernelspec": {
   "display_name": "Python 3",
   "language": "python",
   "name": "python3"
  },
  "language_info": {
   "codemirror_mode": {
    "name": "ipython",
    "version": 3
   },
   "file_extension": ".py",
   "mimetype": "text/x-python",
   "name": "python",
   "nbconvert_exporter": "python",
   "pygments_lexer": "ipython3",
   "version": "3.7.4"
  }
 },
 "nbformat": 4,
 "nbformat_minor": 4
}
